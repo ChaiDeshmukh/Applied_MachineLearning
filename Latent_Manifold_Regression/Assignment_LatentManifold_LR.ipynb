{
  "nbformat": 4,
  "nbformat_minor": 0,
  "metadata": {
    "colab": {
      "name": "Assignment_LatentManifold_LR.ipynb",
      "provenance": [],
      "collapsed_sections": []
    },
    "kernelspec": {
      "name": "python3",
      "display_name": "Python 3"
    }
  },
  "cells": [
    {
      "cell_type": "code",
      "metadata": {
        "id": "6Y9hnmDq3FFy",
        "colab_type": "code",
        "outputId": "1601fd7a-9f5b-49cd-db5b-aefb6d455cd1",
        "colab": {
          "base_uri": "https://localhost:8080/",
          "height": 121
        }
      },
      "source": [
        " from google.colab import drive\n",
        "drive.mount('/content/drive')"
      ],
      "execution_count": 0,
      "outputs": [
        {
          "output_type": "stream",
          "text": [
            "Go to this URL in a browser: https://accounts.google.com/o/oauth2/auth?client_id=947318989803-6bn6qk8qdgf4n4g3pfee6491hc0brc4i.apps.googleusercontent.com&redirect_uri=urn%3Aietf%3Awg%3Aoauth%3A2.0%3Aoob&scope=email%20https%3A%2F%2Fwww.googleapis.com%2Fauth%2Fdocs.test%20https%3A%2F%2Fwww.googleapis.com%2Fauth%2Fdrive%20https%3A%2F%2Fwww.googleapis.com%2Fauth%2Fdrive.photos.readonly%20https%3A%2F%2Fwww.googleapis.com%2Fauth%2Fpeopleapi.readonly&response_type=code\n",
            "\n",
            "Enter your authorization code:\n",
            "··········\n",
            "Mounted at /content/drive\n"
          ],
          "name": "stdout"
        }
      ]
    },
    {
      "cell_type": "markdown",
      "metadata": {
        "id": "CUcmGGbO3cxA",
        "colab_type": "text"
      },
      "source": [
        "**Course code : CMPE-257 Sec 99, Group name : Insurgents_Sales Prediction **\n",
        "\n",
        "Group Submission by\n",
        "\n",
        "1.   Chaitrali Deshmukh(012501489)\n",
        "2.   Prathyusha Kasibhatta(013774163) \n",
        "3.   Sandhya Gadgoli(013798759)\n",
        "4.   Saylee Vyawahare(013801294)\n",
        "\n",
        "\n",
        "Images for clustering and regression on different use cases: https://drive.google.com/open?id=1FXgSR010mzkyqTUFtBnae0WhbhXfWm8n\n",
        "\n",
        "\n",
        "Forecasting is an important factor to plan the future effectively and efficiently. Sales forecast has very high influence on the performance of the company’s business and hence these sales forecasts can be used to estimate company’s success or performance in the coming year. Forecasting of retail sales helps retailer to take necessary measures to plan their budgets or investments in a period (monthly, yearly) among different product categories like women clothing, men clothing and other clothing and at the same time they can plan to minimize revenue loss from unavailability of products by investing accordingly.\n",
        "\n",
        "The objective of this assignment is to understand the whole ML Life cycle which includes data cleaning, data preparation, model training and testing.\n",
        "\n",
        "\n"
      ]
    },
    {
      "cell_type": "markdown",
      "metadata": {
        "id": "5LJESYVk4Pil",
        "colab_type": "text"
      },
      "source": [
        "**Description of dataset: Walmart dataset**\n",
        "\n",
        "Item_Identifier: \t\tUnique product ID\n",
        "\n",
        "Item_Weight: \t\tWeight of the product\n",
        "\n",
        "Item_Fat: \t\t\tWeather the product is low fat or not\n",
        "\n",
        "Item_Visibility: \t\tThe % of total display area of all the products in a store allocated to particular product \n",
        "\n",
        "Item_MRP:\t\t\tPrice of the product\n",
        "\n",
        "Item_Type:\t\t\tCategory to which product belongs to\n",
        "\n",
        "Outlet_Identifier:\t\tUnique store ID \n",
        "\n",
        "Outlet_Establishment_Year: Year in which store was established \n",
        "\n",
        "Outlet_Size: \t\t\tSize of the store which describes area \n",
        "\n",
        "Outlet_Location_Type: Type of city in which store is located\n",
        "\n",
        "Outlet_Type: \t\tIndicates whether is store is just grocery store or some supermarket.\n",
        "\n",
        "Item_Outlet_Sales:\tSales of a product in a specific store. Outcome variable to predict"
      ]
    },
    {
      "cell_type": "markdown",
      "metadata": {
        "id": "Aacl4obi40cn",
        "colab_type": "text"
      },
      "source": [
        "**List of use cases observed from the dataset**\n",
        "\n",
        "\n",
        "It is seen that from our dataset, the variables that will have higher impact on the product’s sale price are: Item_Visibility , Item_Type , OutletSize , Outlet_Location_Type , MRP and Outlet_Type\n",
        "\n",
        "\n",
        "Here we are trying to identify the most important variables and to define the best regression model for predicting out target variable Item_Outlet_Sales. \n",
        "\n",
        "\n",
        "1 Item_visibility and Item_Outlet_Sales , \n",
        "\n",
        "Comparison of parameters visibility against sales provide answers to questions like \n",
        "•\twhy in-store visibility matters \n",
        "•\tWhat is the impact of item visibility on sales, \n",
        "•\thow can sales of a commodity can be maximized by changing the item location in the stores. \n",
        "By observing the item visibility index and respective sales amount, we can use strategies that will boost visibility of item which spikes the sales over next spell.\n",
        "\n",
        "2 Item_Fat_Content and Item_Type \n",
        "In our data we have these two types of Fat mentioned Regular and Low Fat.\n",
        "Under Item type we have Breads, Breakfast, Bakingoods, Canned,Dairy,Frozen,Meat,Snack,Other seafoods..etc\n",
        "\n",
        "To do the product categorization like fat free and regular food type, specific nutrient information is valuable aspect in making purchase that directly affect sales. The regression on data set for fat content provides useful narrative on what item type has how much quantity of fat. “Low Fat” products mostly have higher sales values than “Regular” products.Daily use products will generally have a higher tendency to sell as compared to the specific use products. \n",
        "\n",
        "3 Year and Sales \n",
        " Another important Observing sales in specific year-This use case provides generic sales pattern on the sales in a specific year (not for a specific item/dept sales.)\n",
        "Dataset chosen has collected sales data from the year 1985 to 2009, for different products across many stores in different locations. \n",
        "\n",
        "\n",
        "4 Outlet_Type and Item_Outlet_Sales\n",
        "Based on outlet type of outlet with respective sales - We can examine the sales in different types of stores like Supermarket and in Grocery Store.\n",
        "\n",
        "\n",
        "5 Item MRP and Sales\n",
        "Observation of price with sales will give insights on “What type of item is sold most” ,How much money people are spending on each item. From the dataset values notice that  Item_Visibility is the feature with the lowest correlation with our target variable. Hence less visible the product is in the store the higher the price will be. \n",
        "\n",
        "\n",
        "6 Size of outlet and sales\n",
        "Another factor that might affect the sales in any store is Size of the outlet which will indicate the capacity of the store to store items. Theoretically the size of store and sales are directly proportional.Findings from size of outlet like medium, small and large will help to explore more on predicting sales of each item at various type of stores."
      ]
    },
    {
      "cell_type": "markdown",
      "metadata": {
        "id": "iWrqZaT65J-j",
        "colab_type": "text"
      },
      "source": [
        "**Data Cleaning & Preparation:**\n",
        "\n",
        "1.\tLoad the dataset using Pandas.\n",
        "2.\tDrop the unnecessary columns\n",
        "3.\tRemove the Null values by taking median of rows\n",
        "4.\tRemove the missing values.\n",
        "5.\tCategorized the Outlet Size into small, medium and high columns\n"
      ]
    },
    {
      "cell_type": "code",
      "metadata": {
        "id": "uUID4OHN8x-Z",
        "colab_type": "code",
        "outputId": "235e5109-c720-44d1-902e-f7f466afb78c",
        "colab": {
          "base_uri": "https://localhost:8080/",
          "height": 299
        }
      },
      "source": [
        "#importing all the necessary libraries\n",
        "import numpy as np\n",
        "import matplotlib.pyplot as plt\n",
        "import pandas as pd\n",
        "\n",
        "\n",
        "#loading the dataset using pandas\n",
        "dataset = pd.read_csv(\"/content/drive/My Drive/MLFall2019/Insurgents/walmart-recruiting-store-sales-forecasting/Walmart_Train.csv\")\n",
        "dataset.head(5)"
      ],
      "execution_count": 0,
      "outputs": [
        {
          "output_type": "execute_result",
          "data": {
            "text/html": [
              "<div>\n",
              "<style scoped>\n",
              "    .dataframe tbody tr th:only-of-type {\n",
              "        vertical-align: middle;\n",
              "    }\n",
              "\n",
              "    .dataframe tbody tr th {\n",
              "        vertical-align: top;\n",
              "    }\n",
              "\n",
              "    .dataframe thead th {\n",
              "        text-align: right;\n",
              "    }\n",
              "</style>\n",
              "<table border=\"1\" class=\"dataframe\">\n",
              "  <thead>\n",
              "    <tr style=\"text-align: right;\">\n",
              "      <th></th>\n",
              "      <th>Item_Identifier</th>\n",
              "      <th>Item_Weight</th>\n",
              "      <th>Item_Fat_Content</th>\n",
              "      <th>Item_Visibility</th>\n",
              "      <th>Item_Type</th>\n",
              "      <th>Item_MRP</th>\n",
              "      <th>Outlet_Identifier</th>\n",
              "      <th>Outlet_Establishment_Year</th>\n",
              "      <th>Outlet_Size</th>\n",
              "      <th>Outlet_Location_Type</th>\n",
              "      <th>Outlet_Type</th>\n",
              "      <th>Item_Outlet_Sales</th>\n",
              "    </tr>\n",
              "  </thead>\n",
              "  <tbody>\n",
              "    <tr>\n",
              "      <th>0</th>\n",
              "      <td>FDA15</td>\n",
              "      <td>9.30</td>\n",
              "      <td>Low Fat</td>\n",
              "      <td>0.016047</td>\n",
              "      <td>Dairy</td>\n",
              "      <td>249.8092</td>\n",
              "      <td>OUT049</td>\n",
              "      <td>1999</td>\n",
              "      <td>Medium</td>\n",
              "      <td>Tier 1</td>\n",
              "      <td>Supermarket Type1</td>\n",
              "      <td>3735.1380</td>\n",
              "    </tr>\n",
              "    <tr>\n",
              "      <th>1</th>\n",
              "      <td>DRC01</td>\n",
              "      <td>5.92</td>\n",
              "      <td>Regular</td>\n",
              "      <td>0.019278</td>\n",
              "      <td>Soft Drinks</td>\n",
              "      <td>48.2692</td>\n",
              "      <td>OUT018</td>\n",
              "      <td>2009</td>\n",
              "      <td>Medium</td>\n",
              "      <td>Tier 3</td>\n",
              "      <td>Supermarket Type2</td>\n",
              "      <td>443.4228</td>\n",
              "    </tr>\n",
              "    <tr>\n",
              "      <th>2</th>\n",
              "      <td>FDN15</td>\n",
              "      <td>17.50</td>\n",
              "      <td>Low Fat</td>\n",
              "      <td>0.016760</td>\n",
              "      <td>Meat</td>\n",
              "      <td>141.6180</td>\n",
              "      <td>OUT049</td>\n",
              "      <td>1999</td>\n",
              "      <td>Medium</td>\n",
              "      <td>Tier 1</td>\n",
              "      <td>Supermarket Type1</td>\n",
              "      <td>2097.2700</td>\n",
              "    </tr>\n",
              "    <tr>\n",
              "      <th>3</th>\n",
              "      <td>FDX07</td>\n",
              "      <td>19.20</td>\n",
              "      <td>Regular</td>\n",
              "      <td>0.000000</td>\n",
              "      <td>Fruits and Vegetables</td>\n",
              "      <td>182.0950</td>\n",
              "      <td>OUT010</td>\n",
              "      <td>1998</td>\n",
              "      <td>NaN</td>\n",
              "      <td>Tier 3</td>\n",
              "      <td>Grocery Store</td>\n",
              "      <td>732.3800</td>\n",
              "    </tr>\n",
              "    <tr>\n",
              "      <th>4</th>\n",
              "      <td>NCD19</td>\n",
              "      <td>8.93</td>\n",
              "      <td>Low Fat</td>\n",
              "      <td>0.000000</td>\n",
              "      <td>Household</td>\n",
              "      <td>53.8614</td>\n",
              "      <td>OUT013</td>\n",
              "      <td>1987</td>\n",
              "      <td>High</td>\n",
              "      <td>Tier 3</td>\n",
              "      <td>Supermarket Type1</td>\n",
              "      <td>994.7052</td>\n",
              "    </tr>\n",
              "  </tbody>\n",
              "</table>\n",
              "</div>"
            ],
            "text/plain": [
              "  Item_Identifier  Item_Weight  ...        Outlet_Type  Item_Outlet_Sales\n",
              "0           FDA15         9.30  ...  Supermarket Type1          3735.1380\n",
              "1           DRC01         5.92  ...  Supermarket Type2           443.4228\n",
              "2           FDN15        17.50  ...  Supermarket Type1          2097.2700\n",
              "3           FDX07        19.20  ...      Grocery Store           732.3800\n",
              "4           NCD19         8.93  ...  Supermarket Type1           994.7052\n",
              "\n",
              "[5 rows x 12 columns]"
            ]
          },
          "metadata": {
            "tags": []
          },
          "execution_count": 10
        }
      ]
    },
    {
      "cell_type": "code",
      "metadata": {
        "id": "OG-fJE5m9PiC",
        "colab_type": "code",
        "outputId": "27a65e9f-19c3-4aaa-b792-065ee57133d2",
        "colab": {
          "base_uri": "https://localhost:8080/",
          "height": 299
        }
      },
      "source": [
        "#removing the null values from the dataset\n",
        "\n",
        "dataset = dataset.replace(np.nan, 0)\n",
        "\n",
        "dataset.is(5)"
      ],
      "execution_count": 0,
      "outputs": [
        {
          "output_type": "execute_result",
          "data": {
            "text/html": [
              "<div>\n",
              "<style scoped>\n",
              "    .dataframe tbody tr th:only-of-type {\n",
              "        vertical-align: middle;\n",
              "    }\n",
              "\n",
              "    .dataframe tbody tr th {\n",
              "        vertical-align: top;\n",
              "    }\n",
              "\n",
              "    .dataframe thead th {\n",
              "        text-align: right;\n",
              "    }\n",
              "</style>\n",
              "<table border=\"1\" class=\"dataframe\">\n",
              "  <thead>\n",
              "    <tr style=\"text-align: right;\">\n",
              "      <th></th>\n",
              "      <th>Item_Identifier</th>\n",
              "      <th>Item_Weight</th>\n",
              "      <th>Item_Fat_Content</th>\n",
              "      <th>Item_Visibility</th>\n",
              "      <th>Item_Type</th>\n",
              "      <th>Item_MRP</th>\n",
              "      <th>Outlet_Identifier</th>\n",
              "      <th>Outlet_Establishment_Year</th>\n",
              "      <th>Outlet_Size</th>\n",
              "      <th>Outlet_Location_Type</th>\n",
              "      <th>Outlet_Type</th>\n",
              "      <th>Item_Outlet_Sales</th>\n",
              "    </tr>\n",
              "  </thead>\n",
              "  <tbody>\n",
              "    <tr>\n",
              "      <th>0</th>\n",
              "      <td>FDA15</td>\n",
              "      <td>9.30</td>\n",
              "      <td>Low Fat</td>\n",
              "      <td>0.016047</td>\n",
              "      <td>Dairy</td>\n",
              "      <td>249.8092</td>\n",
              "      <td>OUT049</td>\n",
              "      <td>1999</td>\n",
              "      <td>Medium</td>\n",
              "      <td>Tier 1</td>\n",
              "      <td>Supermarket Type1</td>\n",
              "      <td>3735.1380</td>\n",
              "    </tr>\n",
              "    <tr>\n",
              "      <th>1</th>\n",
              "      <td>DRC01</td>\n",
              "      <td>5.92</td>\n",
              "      <td>Regular</td>\n",
              "      <td>0.019278</td>\n",
              "      <td>Soft Drinks</td>\n",
              "      <td>48.2692</td>\n",
              "      <td>OUT018</td>\n",
              "      <td>2009</td>\n",
              "      <td>Medium</td>\n",
              "      <td>Tier 3</td>\n",
              "      <td>Supermarket Type2</td>\n",
              "      <td>443.4228</td>\n",
              "    </tr>\n",
              "    <tr>\n",
              "      <th>2</th>\n",
              "      <td>FDN15</td>\n",
              "      <td>17.50</td>\n",
              "      <td>Low Fat</td>\n",
              "      <td>0.016760</td>\n",
              "      <td>Meat</td>\n",
              "      <td>141.6180</td>\n",
              "      <td>OUT049</td>\n",
              "      <td>1999</td>\n",
              "      <td>Medium</td>\n",
              "      <td>Tier 1</td>\n",
              "      <td>Supermarket Type1</td>\n",
              "      <td>2097.2700</td>\n",
              "    </tr>\n",
              "    <tr>\n",
              "      <th>3</th>\n",
              "      <td>FDX07</td>\n",
              "      <td>19.20</td>\n",
              "      <td>Regular</td>\n",
              "      <td>0.000000</td>\n",
              "      <td>Fruits and Vegetables</td>\n",
              "      <td>182.0950</td>\n",
              "      <td>OUT010</td>\n",
              "      <td>1998</td>\n",
              "      <td>0</td>\n",
              "      <td>Tier 3</td>\n",
              "      <td>Grocery Store</td>\n",
              "      <td>732.3800</td>\n",
              "    </tr>\n",
              "    <tr>\n",
              "      <th>4</th>\n",
              "      <td>NCD19</td>\n",
              "      <td>8.93</td>\n",
              "      <td>Low Fat</td>\n",
              "      <td>0.000000</td>\n",
              "      <td>Household</td>\n",
              "      <td>53.8614</td>\n",
              "      <td>OUT013</td>\n",
              "      <td>1987</td>\n",
              "      <td>High</td>\n",
              "      <td>Tier 3</td>\n",
              "      <td>Supermarket Type1</td>\n",
              "      <td>994.7052</td>\n",
              "    </tr>\n",
              "  </tbody>\n",
              "</table>\n",
              "</div>"
            ],
            "text/plain": [
              "  Item_Identifier  Item_Weight  ...        Outlet_Type  Item_Outlet_Sales\n",
              "0           FDA15         9.30  ...  Supermarket Type1          3735.1380\n",
              "1           DRC01         5.92  ...  Supermarket Type2           443.4228\n",
              "2           FDN15        17.50  ...  Supermarket Type1          2097.2700\n",
              "3           FDX07        19.20  ...      Grocery Store           732.3800\n",
              "4           NCD19         8.93  ...  Supermarket Type1           994.7052\n",
              "\n",
              "[5 rows x 12 columns]"
            ]
          },
          "metadata": {
            "tags": []
          },
          "execution_count": 3
        }
      ]
    },
    {
      "cell_type": "markdown",
      "metadata": {
        "id": "WvDJFy2X5oh6",
        "colab_type": "text"
      },
      "source": [
        "**Identify the number of clusters using Elbow method and apply Clustering**\n",
        "\n"
      ]
    },
    {
      "cell_type": "code",
      "metadata": {
        "id": "k-KY7fgXHVPf",
        "colab_type": "code",
        "outputId": "e03ed0e0-881f-4d91-8cbe-987632a09d44",
        "colab": {
          "base_uri": "https://localhost:8080/",
          "height": 134
        }
      },
      "source": [
        "#Taking two features for clustering\n",
        "dataset1 = pd.read_csv(\"/content/drive/My Drive/MLFall2019/Insurgents/walmart-recruiting-store-sales-forecasting/Walmart_Train.csv\")\n",
        "X = dataset1.iloc[:, [5,11]].values\n",
        "\n",
        "print(X)"
      ],
      "execution_count": 0,
      "outputs": [
        {
          "output_type": "stream",
          "text": [
            "[[ 249.8092 3735.138 ]\n",
            " [  48.2692  443.4228]\n",
            " [ 141.618  2097.27  ]\n",
            " ...\n",
            " [  85.1224 1193.1136]\n",
            " [ 103.1332 1845.5976]\n",
            " [  75.467   765.67  ]]\n"
          ],
          "name": "stdout"
        }
      ]
    },
    {
      "cell_type": "code",
      "metadata": {
        "id": "LBJkNJPvHuVu",
        "colab_type": "code",
        "outputId": "d8b5b9b7-6f78-40d8-9813-5a14711dac22",
        "colab": {
          "base_uri": "https://localhost:8080/",
          "height": 295
        }
      },
      "source": [
        "# Using the elbow method to find the optimal number of clusters\n",
        "from sklearn.cluster import KMeans\n",
        "wcss = []\n",
        "for i in range(1, 11):\n",
        "    kmeans = KMeans(n_clusters = i, init = 'k-means++', max_iter = 300, n_init = 10, random_state = 0)\n",
        "    kmeans.fit(X)\n",
        "    wcss.append(kmeans.inertia_)\n",
        "plt.plot(range(1, 11), wcss)\n",
        "plt.title('The Elbow Method')\n",
        "plt.xlabel('Number of clusters')\n",
        "plt.ylabel('WCSS')\n",
        "plt.show()"
      ],
      "execution_count": 0,
      "outputs": [
        {
          "output_type": "display_data",
          "data": {
            "image/png": "[encoded data removed]",
            "text/plain": [
              "<Figure size 432x288 with 1 Axes>"
            ]
          },
          "metadata": {
            "tags": []
          }
        }
      ]
    },
    {
      "cell_type": "code",
      "metadata": {
        "id": "A4MR9J-zHz55",
        "colab_type": "code",
        "colab": {}
      },
      "source": [
        "# Applying k-means to the dataset\n",
        "kmeans = KMeans(n_clusters = 3, init = 'k-means++', max_iter = 300, n_init = 10, random_state = 0)\n",
        "y_kmeans = kmeans.fit_predict(X)"
      ],
      "execution_count": 0,
      "outputs": []
    },
    {
      "cell_type": "code",
      "metadata": {
        "id": "gLzpqpHfH4FJ",
        "colab_type": "code",
        "outputId": "14263a85-4929-49c7-9eb2-06dd9fb60ca6",
        "colab": {
          "base_uri": "https://localhost:8080/",
          "height": 295
        }
      },
      "source": [
        "#Visualizing the clusters\n",
        "plt.scatter(X[y_kmeans == 0, 0], X[y_kmeans == 0, 1], s = 100, c = 'red', label = 'Low MRP_Low Sale')\n",
        "plt.scatter(X[y_kmeans == 1, 0], X[y_kmeans == 1, 1], s = 100, c = 'blue', label = 'High MRP_High Sale')\n",
        "plt.scatter(X[y_kmeans == 2, 0], X[y_kmeans == 2, 1], s = 100, c = 'green', label = 'HighMRP_LowSale')\n",
        "\n",
        "\n",
        "plt.scatter(kmeans.cluster_centers_[:, 0], kmeans.cluster_centers_[:, 1], s = 300, c = 'yellow', label = 'Centroids')\n",
        "plt.title('Clusters of Products')\n",
        "plt.xlabel('MRP')\n",
        "plt.ylabel('Product_Sales')\n",
        "plt.legend()\n",
        "plt.show()\n"
      ],
      "execution_count": 0,
      "outputs": [
        {
          "output_type": "display_data",
          "data": {
            "image/png": "[encoded data removed]",
            "text/plain": [
              "<Figure size 432x288 with 1 Axes>"
            ]
          },
          "metadata": {
            "tags": []
          }
        }
      ]
    },
    {
      "cell_type": "code",
      "metadata": {
        "id": "mqZmtz6rHz3j",
        "colab_type": "code",
        "colab": {}
      },
      "source": [
        ""
      ],
      "execution_count": 0,
      "outputs": []
    },
    {
      "cell_type": "markdown",
      "metadata": {
        "id": "souDdxnC5ogc",
        "colab_type": "text"
      },
      "source": [
        "**Data visualization after clustering:**\n",
        "\n",
        "For Clustering ,according to the graph plotted by elbow method we created 3 clusters and applied K-means algorithm on different use cases.\n",
        "\n",
        "A.    Item visibility and product sales :-   The red color depicts cluster of products having High sales, green color de­­picts cluster of products having moderate sales and blue color depicts cluster of products having low sales.\n",
        "\n",
        "B.    Item MRP and Product sales :- The red color depicts the cluster of products having Low sales at Low MRP, green color depicts cluster of products having Low sales at High MRP values and blue color depicts cluster of products having High sales at High MRP .\n",
        "\n",
        "C.      Item weight and  Product sales :- The red color depicts cluster of products having Low sales, green color de­­picts cluster of products having moderate sales and blue color depicts cluster of products having high sales.\n"
      ]
    },
    {
      "cell_type": "markdown",
      "metadata": {
        "id": "8AvIDAns-miX",
        "colab_type": "text"
      },
      "source": [
        "**Adding a new column for cluster number to enhance accuracy or precision of the dataset**\n",
        "\n",
        "Based on clusters in the graph, we have categorized sales values to Low, Moderate and High into \"Predict_Sales\" and added it to dataset."
      ]
    },
    {
      "cell_type": "code",
      "metadata": {
        "id": "fZLzjmcw_PNI",
        "colab_type": "code",
        "outputId": "2d255cfe-aa67-48c2-ae3b-78204b2e0517",
        "colab": {
          "base_uri": "https://localhost:8080/",
          "height": 299
        }
      },
      "source": [
        "#Create a predictSales column and add it to the dataset\n",
        "dataset['Predict_Sales'] = \"\"\n",
        "\n",
        "def predictSales():\n",
        "  x = []\n",
        "  for i, saleRecord in enumerate(dataset['Item_Outlet_Sales']):\n",
        "    if saleRecord < 2000:\n",
        "      x.append(\"Low\")\n",
        "    elif saleRecord < 6000:\n",
        "      x.append(\"Moderate\")\n",
        "    else:\n",
        "      x.append(\"High\")\n",
        "  return x\n",
        "\n",
        "#Categorize sales to Low, Moderate and High\n",
        "dataset['Predict_Sales'] = predictSales()\n",
        "dataset.head(5)"
      ],
      "execution_count": 0,
      "outputs": [
        {
          "output_type": "execute_result",
          "data": {
            "text/html": [
              "<div>\n",
              "<style scoped>\n",
              "    .dataframe tbody tr th:only-of-type {\n",
              "        vertical-align: middle;\n",
              "    }\n",
              "\n",
              "    .dataframe tbody tr th {\n",
              "        vertical-align: top;\n",
              "    }\n",
              "\n",
              "    .dataframe thead th {\n",
              "        text-align: right;\n",
              "    }\n",
              "</style>\n",
              "<table border=\"1\" class=\"dataframe\">\n",
              "  <thead>\n",
              "    <tr style=\"text-align: right;\">\n",
              "      <th></th>\n",
              "      <th>Item_Identifier</th>\n",
              "      <th>Item_Weight</th>\n",
              "      <th>Item_Fat_Content</th>\n",
              "      <th>Item_Visibility</th>\n",
              "      <th>Item_Type</th>\n",
              "      <th>Item_MRP</th>\n",
              "      <th>Outlet_Identifier</th>\n",
              "      <th>Outlet_Establishment_Year</th>\n",
              "      <th>Outlet_Size</th>\n",
              "      <th>Outlet_Location_Type</th>\n",
              "      <th>Outlet_Type</th>\n",
              "      <th>Item_Outlet_Sales</th>\n",
              "      <th>Predict_Sales</th>\n",
              "    </tr>\n",
              "  </thead>\n",
              "  <tbody>\n",
              "    <tr>\n",
              "      <th>0</th>\n",
              "      <td>FDA15</td>\n",
              "      <td>9.30</td>\n",
              "      <td>Low Fat</td>\n",
              "      <td>0.016047</td>\n",
              "      <td>Dairy</td>\n",
              "      <td>249.8092</td>\n",
              "      <td>OUT049</td>\n",
              "      <td>1999</td>\n",
              "      <td>Medium</td>\n",
              "      <td>Tier 1</td>\n",
              "      <td>Supermarket Type1</td>\n",
              "      <td>3735.1380</td>\n",
              "      <td>Moderate</td>\n",
              "    </tr>\n",
              "    <tr>\n",
              "      <th>1</th>\n",
              "      <td>DRC01</td>\n",
              "      <td>5.92</td>\n",
              "      <td>Regular</td>\n",
              "      <td>0.019278</td>\n",
              "      <td>Soft Drinks</td>\n",
              "      <td>48.2692</td>\n",
              "      <td>OUT018</td>\n",
              "      <td>2009</td>\n",
              "      <td>Medium</td>\n",
              "      <td>Tier 3</td>\n",
              "      <td>Supermarket Type2</td>\n",
              "      <td>443.4228</td>\n",
              "      <td>Low</td>\n",
              "    </tr>\n",
              "    <tr>\n",
              "      <th>2</th>\n",
              "      <td>FDN15</td>\n",
              "      <td>17.50</td>\n",
              "      <td>Low Fat</td>\n",
              "      <td>0.016760</td>\n",
              "      <td>Meat</td>\n",
              "      <td>141.6180</td>\n",
              "      <td>OUT049</td>\n",
              "      <td>1999</td>\n",
              "      <td>Medium</td>\n",
              "      <td>Tier 1</td>\n",
              "      <td>Supermarket Type1</td>\n",
              "      <td>2097.2700</td>\n",
              "      <td>Moderate</td>\n",
              "    </tr>\n",
              "    <tr>\n",
              "      <th>3</th>\n",
              "      <td>FDX07</td>\n",
              "      <td>19.20</td>\n",
              "      <td>Regular</td>\n",
              "      <td>0.000000</td>\n",
              "      <td>Fruits and Vegetables</td>\n",
              "      <td>182.0950</td>\n",
              "      <td>OUT010</td>\n",
              "      <td>1998</td>\n",
              "      <td>0</td>\n",
              "      <td>Tier 3</td>\n",
              "      <td>Grocery Store</td>\n",
              "      <td>732.3800</td>\n",
              "      <td>Low</td>\n",
              "    </tr>\n",
              "    <tr>\n",
              "      <th>4</th>\n",
              "      <td>NCD19</td>\n",
              "      <td>8.93</td>\n",
              "      <td>Low Fat</td>\n",
              "      <td>0.000000</td>\n",
              "      <td>Household</td>\n",
              "      <td>53.8614</td>\n",
              "      <td>OUT013</td>\n",
              "      <td>1987</td>\n",
              "      <td>High</td>\n",
              "      <td>Tier 3</td>\n",
              "      <td>Supermarket Type1</td>\n",
              "      <td>994.7052</td>\n",
              "      <td>Low</td>\n",
              "    </tr>\n",
              "  </tbody>\n",
              "</table>\n",
              "</div>"
            ],
            "text/plain": [
              "  Item_Identifier  Item_Weight  ... Item_Outlet_Sales  Predict_Sales\n",
              "0           FDA15         9.30  ...         3735.1380       Moderate\n",
              "1           DRC01         5.92  ...          443.4228            Low\n",
              "2           FDN15        17.50  ...         2097.2700       Moderate\n",
              "3           FDX07        19.20  ...          732.3800            Low\n",
              "4           NCD19         8.93  ...          994.7052            Low\n",
              "\n",
              "[5 rows x 13 columns]"
            ]
          },
          "metadata": {
            "tags": []
          },
          "execution_count": 4
        }
      ]
    },
    {
      "cell_type": "markdown",
      "metadata": {
        "id": "Jioi4yLi-mf_",
        "colab_type": "text"
      },
      "source": [
        "**Applying Linear Regression on the dataset**"
      ]
    },
    {
      "cell_type": "code",
      "metadata": {
        "id": "SmGWQxhBA6H7",
        "colab_type": "code",
        "outputId": "568e296a-69dc-45fc-c3ce-5fc657561fa8",
        "colab": {
          "base_uri": "https://localhost:8080/",
          "height": 195
        }
      },
      "source": [
        "# dropping the unnecessary columns from the dataset for regression\n",
        "\n",
        "dataset = dataset.drop([\"Item_Identifier\", \"Item_Weight\", \"Item_Fat_Content\", \"Item_Visibility\", \"Item_Type\", \"Outlet_Identifier\", \"Outlet_Establishment_Year\", \"Outlet_Size\", \"Outlet_Location_Type\", \"Outlet_Type\"], axis=1)\n",
        "\n",
        "dataset.head(5)"
      ],
      "execution_count": 0,
      "outputs": [
        {
          "output_type": "execute_result",
          "data": {
            "text/html": [
              "<div>\n",
              "<style scoped>\n",
              "    .dataframe tbody tr th:only-of-type {\n",
              "        vertical-align: middle;\n",
              "    }\n",
              "\n",
              "    .dataframe tbody tr th {\n",
              "        vertical-align: top;\n",
              "    }\n",
              "\n",
              "    .dataframe thead th {\n",
              "        text-align: right;\n",
              "    }\n",
              "</style>\n",
              "<table border=\"1\" class=\"dataframe\">\n",
              "  <thead>\n",
              "    <tr style=\"text-align: right;\">\n",
              "      <th></th>\n",
              "      <th>Item_MRP</th>\n",
              "      <th>Item_Outlet_Sales</th>\n",
              "    </tr>\n",
              "  </thead>\n",
              "  <tbody>\n",
              "    <tr>\n",
              "      <th>0</th>\n",
              "      <td>249.8092</td>\n",
              "      <td>3735.1380</td>\n",
              "    </tr>\n",
              "    <tr>\n",
              "      <th>1</th>\n",
              "      <td>48.2692</td>\n",
              "      <td>443.4228</td>\n",
              "    </tr>\n",
              "    <tr>\n",
              "      <th>2</th>\n",
              "      <td>141.6180</td>\n",
              "      <td>2097.2700</td>\n",
              "    </tr>\n",
              "    <tr>\n",
              "      <th>3</th>\n",
              "      <td>182.0950</td>\n",
              "      <td>732.3800</td>\n",
              "    </tr>\n",
              "    <tr>\n",
              "      <th>4</th>\n",
              "      <td>53.8614</td>\n",
              "      <td>994.7052</td>\n",
              "    </tr>\n",
              "  </tbody>\n",
              "</table>\n",
              "</div>"
            ],
            "text/plain": [
              "   Item_MRP  Item_Outlet_Sales\n",
              "0  249.8092          3735.1380\n",
              "1   48.2692           443.4228\n",
              "2  141.6180          2097.2700\n",
              "3  182.0950           732.3800\n",
              "4   53.8614           994.7052"
            ]
          },
          "metadata": {
            "tags": []
          },
          "execution_count": 11
        }
      ]
    },
    {
      "cell_type": "code",
      "metadata": {
        "id": "lDPvEX4nBba1",
        "colab_type": "code",
        "colab": {}
      },
      "source": [
        "#Sorting the column into X and Y\n",
        "\n",
        "X = dataset.iloc[:, :-1].values\n",
        "y = dataset.iloc[:, 1].values"
      ],
      "execution_count": 0,
      "outputs": []
    },
    {
      "cell_type": "code",
      "metadata": {
        "id": "ASEYX6WGBp95",
        "colab_type": "code",
        "colab": {}
      },
      "source": [
        "# Splitting the dataset into the Training set and Test set \n",
        "# Test will have 33% of total data\n",
        "\n",
        "from sklearn.model_selection import train_test_split\n",
        "X_train, X_test, y_train, y_test = train_test_split(X, y, test_size = 1/3, random_state = 0)"
      ],
      "execution_count": 0,
      "outputs": []
    },
    {
      "cell_type": "code",
      "metadata": {
        "id": "IWMfV0VHB74-",
        "colab_type": "code",
        "outputId": "8857ae03-1603-4e31-ea08-74aced0a083b",
        "colab": {
          "base_uri": "https://localhost:8080/",
          "height": 34
        }
      },
      "source": [
        "# Fitting Simple Linear Regression to the Training set\n",
        "from sklearn.linear_model import LinearRegression\n",
        "regressor = LinearRegression()\n",
        "regressor.fit(X_train, y_train)\n",
        "regressor.score(X_test, y_test)"
      ],
      "execution_count": 0,
      "outputs": [
        {
          "output_type": "execute_result",
          "data": {
            "text/plain": [
              "0.3130187227395691"
            ]
          },
          "metadata": {
            "tags": []
          },
          "execution_count": 14
        }
      ]
    },
    {
      "cell_type": "code",
      "metadata": {
        "id": "qmjanIyLCAv0",
        "colab_type": "code",
        "colab": {}
      },
      "source": [
        "# Predicting the Test set results\n",
        "y_pred = regressor.predict(X_test)"
      ],
      "execution_count": 0,
      "outputs": []
    },
    {
      "cell_type": "code",
      "metadata": {
        "id": "GTqtkIsHCD4i",
        "colab_type": "code",
        "outputId": "f9b9a6c7-7dec-4807-b84c-792d9b7bae59",
        "colab": {
          "base_uri": "https://localhost:8080/",
          "height": 295
        }
      },
      "source": [
        "# Visualising the Training set results\n",
        "plt.scatter(X_train, y_train, color = 'red')\n",
        "plt.plot(X_train, regressor.predict(X_train), color = 'blue')\n",
        "plt.title('Sales vs MRP (Training set)')\n",
        "plt.xlabel('MRP')\n",
        "plt.ylabel('Sales')\n",
        "plt.show()"
      ],
      "execution_count": 0,
      "outputs": [
        {
          "output_type": "display_data",
          "data": {
            "image/png": "[encoded data removed]",
            "text/plain": [
              "<Figure size 432x288 with 1 Axes>"
            ]
          },
          "metadata": {
            "tags": []
          }
        }
      ]
    },
    {
      "cell_type": "markdown",
      "metadata": {
        "id": "hSNEAwYfCNoY",
        "colab_type": "text"
      },
      "source": [
        "**Linear Regression on Item_visibility & Item_Sales **\n",
        "\n",
        "![](https://drive.google.com/open?id=1lcJO0NRWShLyMPQOVItjtDHwzKNMA2gI)"
      ]
    },
    {
      "cell_type": "markdown",
      "metadata": {
        "id": "Hodeh5K5Cyv9",
        "colab_type": "text"
      },
      "source": [
        "**Data Visualizing after Linear Regression**\n",
        "\n",
        "We have done linear regression on three different attributes which we think are the most important features in order to make good sale. After analyzing the relationship between item sales and item_MRP, we found that as the MRP increases the sales also gradually increases. In our linear regression graph, the line tries to predict item sales based on the MRP so for example if we have a product of 100$(dollars) its predicted sales would be around 1800$. In the second graph, we are trying to predict item_sales with respect to its visibility. However, the predictions for sales are not properly displayed in the graph. Based on the visibility, we cannot predict the actual sales of the products. Even if the products are visible to customers at all times, he/she might not buy it. It’s a very vague situation. Therefore, in this case, we feel that to predict sales we would need more concrete data and more prominent features. In this case, the prediction of the sales is purely based on item MRP and item visibility while on the other hand Sales is also greatly affected by other factors like time of the month, Holidays, discounts, weather conditions, store type, department etc.\n",
        "\n",
        "\n",
        "Hence, we have decided to add one more dataset to enhance the probability of correct predictions. We have identified different latent manifolds which can help us to understand how and what factors should be considered to increase the overall store revenue.\n",
        "\n",
        "**Latent Manifolds observed from the given datasets:**\n",
        "\n",
        "\n",
        "\n",
        "Item MRP: actual retail price of the product\n",
        "\n",
        "Item Visibility: visibility of the product in any store (e.g. row number on the shelves)\n",
        "\n",
        "Item Type: what kind of product it is?\n",
        "\n",
        "Item Weight: weight of the product\n",
        "\n",
        "Store Type: Is it a small store or a big mall?\n",
        "\n",
        "Time: What time of the day?\n",
        "\n",
        "Holidays: Holidays, Long Weekends and Thanksgiving season \n",
        "\n",
        "Discounts: Promotions or sale\n",
        "\n",
        "Weather Condition: Drastic weather conditions may also affect sales\n",
        "\n",
        "Department Type: What kind of department it is? E.g. Beauty, Electronics, kitchen or Kids section\n",
        "\n",
        "\n"
      ]
    },
    {
      "cell_type": "markdown",
      "metadata": {
        "id": "yQ0SwJ8BGCfU",
        "colab_type": "text"
      },
      "source": [
        "**Accuracy of the Regression Model:**\n",
        "\n",
        "We have used RMSE (Root mean squared error) for calculating accuracy. In the scattered graph, we can see the red dots are actual values and the blue line is the set of predicted values drawn by our model. By taking the distances of all points to the line, and calculating mean and squaring them, we got RMSE value."
      ]
    },
    {
      "cell_type": "code",
      "metadata": {
        "id": "-ZNlnHvqF8_B",
        "colab_type": "code",
        "outputId": "dad77b24-3d2c-44f6-ef79-cc015e48606b",
        "colab": {
          "base_uri": "https://localhost:8080/",
          "height": 34
        }
      },
      "source": [
        "rss=((y_test-y_pred)**2).sum()\n",
        "mse=np.mean((y_test-y_pred)**2)\n",
        "print(\"Final rmse value is =\",np.sqrt(np.mean((y_test-y_pred)**2)))"
      ],
      "execution_count": 0,
      "outputs": [
        {
          "output_type": "stream",
          "text": [
            "Final rmse value is = 1434.2322207637158\n"
          ],
          "name": "stdout"
        }
      ]
    },
    {
      "cell_type": "markdown",
      "metadata": {
        "id": "XJlJMLhqD0Qw",
        "colab_type": "text"
      },
      "source": [
        "**Data Enrichment:**\n",
        "\n",
        "After identifying these latent manifolds, we thought to enrich our dataset by merging it with another dataset containing some of these important features. The final dataset looks like this:\n"
      ]
    },
    {
      "cell_type": "code",
      "metadata": {
        "id": "JOLUs_yrD_tq",
        "colab_type": "code",
        "outputId": "61295b56-9750-4df7-a564-01c37cf1fb87",
        "colab": {
          "base_uri": "https://localhost:8080/",
          "height": 299
        }
      },
      "source": [
        "#merging two datasets\n",
        "\n",
        "df1 = pd.read_csv(\"/content/drive/My Drive/MLFall2019/Insurgents/walmart-recruiting-store-sales-forecasting/Walmart_Train.csv\")\n",
        "\n",
        "df2 =  pd.read_csv(\"/content/drive/My Drive/MLFall2019/Insurgents/walmart-recruiting-store-sales-forecasting/features.csv\")\n",
        "\n",
        "dfinal = pd.concat([df1,df2], axis=1)\n",
        "\n",
        "dfinal.head(5)"
      ],
      "execution_count": 0,
      "outputs": [
        {
          "output_type": "execute_result",
          "data": {
            "text/html": [
              "<div>\n",
              "<style scoped>\n",
              "    .dataframe tbody tr th:only-of-type {\n",
              "        vertical-align: middle;\n",
              "    }\n",
              "\n",
              "    .dataframe tbody tr th {\n",
              "        vertical-align: top;\n",
              "    }\n",
              "\n",
              "    .dataframe thead th {\n",
              "        text-align: right;\n",
              "    }\n",
              "</style>\n",
              "<table border=\"1\" class=\"dataframe\">\n",
              "  <thead>\n",
              "    <tr style=\"text-align: right;\">\n",
              "      <th></th>\n",
              "      <th>Item_Identifier</th>\n",
              "      <th>Item_Weight</th>\n",
              "      <th>Item_Fat_Content</th>\n",
              "      <th>Item_Visibility</th>\n",
              "      <th>Item_Type</th>\n",
              "      <th>Item_MRP</th>\n",
              "      <th>Outlet_Identifier</th>\n",
              "      <th>Outlet_Establishment_Year</th>\n",
              "      <th>Outlet_Size</th>\n",
              "      <th>Outlet_Location_Type</th>\n",
              "      <th>Outlet_Type</th>\n",
              "      <th>Item_Outlet_Sales</th>\n",
              "      <th>Store</th>\n",
              "      <th>Date</th>\n",
              "      <th>Temperature</th>\n",
              "      <th>Fuel_Price</th>\n",
              "      <th>MarkDown1</th>\n",
              "      <th>MarkDown2</th>\n",
              "      <th>MarkDown3</th>\n",
              "      <th>MarkDown4</th>\n",
              "      <th>MarkDown5</th>\n",
              "      <th>CPI</th>\n",
              "      <th>Unemployment</th>\n",
              "      <th>IsHoliday</th>\n",
              "    </tr>\n",
              "  </thead>\n",
              "  <tbody>\n",
              "    <tr>\n",
              "      <th>0</th>\n",
              "      <td>FDA15</td>\n",
              "      <td>9.30</td>\n",
              "      <td>Low Fat</td>\n",
              "      <td>0.016047</td>\n",
              "      <td>Dairy</td>\n",
              "      <td>249.8092</td>\n",
              "      <td>OUT049</td>\n",
              "      <td>1999</td>\n",
              "      <td>Medium</td>\n",
              "      <td>Tier 1</td>\n",
              "      <td>Supermarket Type1</td>\n",
              "      <td>3735.1380</td>\n",
              "      <td>1.0</td>\n",
              "      <td>2/5/2010</td>\n",
              "      <td>42.31</td>\n",
              "      <td>2.572</td>\n",
              "      <td>NaN</td>\n",
              "      <td>NaN</td>\n",
              "      <td>NaN</td>\n",
              "      <td>NaN</td>\n",
              "      <td>NaN</td>\n",
              "      <td>211.096358</td>\n",
              "      <td>8.106</td>\n",
              "      <td>False</td>\n",
              "    </tr>\n",
              "    <tr>\n",
              "      <th>1</th>\n",
              "      <td>DRC01</td>\n",
              "      <td>5.92</td>\n",
              "      <td>Regular</td>\n",
              "      <td>0.019278</td>\n",
              "      <td>Soft Drinks</td>\n",
              "      <td>48.2692</td>\n",
              "      <td>OUT018</td>\n",
              "      <td>2009</td>\n",
              "      <td>Medium</td>\n",
              "      <td>Tier 3</td>\n",
              "      <td>Supermarket Type2</td>\n",
              "      <td>443.4228</td>\n",
              "      <td>1.0</td>\n",
              "      <td>2/12/2010</td>\n",
              "      <td>38.51</td>\n",
              "      <td>2.548</td>\n",
              "      <td>NaN</td>\n",
              "      <td>NaN</td>\n",
              "      <td>NaN</td>\n",
              "      <td>NaN</td>\n",
              "      <td>NaN</td>\n",
              "      <td>211.242170</td>\n",
              "      <td>8.106</td>\n",
              "      <td>True</td>\n",
              "    </tr>\n",
              "    <tr>\n",
              "      <th>2</th>\n",
              "      <td>FDN15</td>\n",
              "      <td>17.50</td>\n",
              "      <td>Low Fat</td>\n",
              "      <td>0.016760</td>\n",
              "      <td>Meat</td>\n",
              "      <td>141.6180</td>\n",
              "      <td>OUT049</td>\n",
              "      <td>1999</td>\n",
              "      <td>Medium</td>\n",
              "      <td>Tier 1</td>\n",
              "      <td>Supermarket Type1</td>\n",
              "      <td>2097.2700</td>\n",
              "      <td>1.0</td>\n",
              "      <td>2/19/2010</td>\n",
              "      <td>39.93</td>\n",
              "      <td>2.514</td>\n",
              "      <td>NaN</td>\n",
              "      <td>NaN</td>\n",
              "      <td>NaN</td>\n",
              "      <td>NaN</td>\n",
              "      <td>NaN</td>\n",
              "      <td>211.289143</td>\n",
              "      <td>8.106</td>\n",
              "      <td>False</td>\n",
              "    </tr>\n",
              "    <tr>\n",
              "      <th>3</th>\n",
              "      <td>FDX07</td>\n",
              "      <td>19.20</td>\n",
              "      <td>Regular</td>\n",
              "      <td>0.000000</td>\n",
              "      <td>Fruits and Vegetables</td>\n",
              "      <td>182.0950</td>\n",
              "      <td>OUT010</td>\n",
              "      <td>1998</td>\n",
              "      <td>NaN</td>\n",
              "      <td>Tier 3</td>\n",
              "      <td>Grocery Store</td>\n",
              "      <td>732.3800</td>\n",
              "      <td>1.0</td>\n",
              "      <td>2/26/2010</td>\n",
              "      <td>46.63</td>\n",
              "      <td>2.561</td>\n",
              "      <td>NaN</td>\n",
              "      <td>NaN</td>\n",
              "      <td>NaN</td>\n",
              "      <td>NaN</td>\n",
              "      <td>NaN</td>\n",
              "      <td>211.319643</td>\n",
              "      <td>8.106</td>\n",
              "      <td>False</td>\n",
              "    </tr>\n",
              "    <tr>\n",
              "      <th>4</th>\n",
              "      <td>NCD19</td>\n",
              "      <td>8.93</td>\n",
              "      <td>Low Fat</td>\n",
              "      <td>0.000000</td>\n",
              "      <td>Household</td>\n",
              "      <td>53.8614</td>\n",
              "      <td>OUT013</td>\n",
              "      <td>1987</td>\n",
              "      <td>High</td>\n",
              "      <td>Tier 3</td>\n",
              "      <td>Supermarket Type1</td>\n",
              "      <td>994.7052</td>\n",
              "      <td>1.0</td>\n",
              "      <td>3/5/2010</td>\n",
              "      <td>46.50</td>\n",
              "      <td>2.625</td>\n",
              "      <td>NaN</td>\n",
              "      <td>NaN</td>\n",
              "      <td>NaN</td>\n",
              "      <td>NaN</td>\n",
              "      <td>NaN</td>\n",
              "      <td>211.350143</td>\n",
              "      <td>8.106</td>\n",
              "      <td>False</td>\n",
              "    </tr>\n",
              "  </tbody>\n",
              "</table>\n",
              "</div>"
            ],
            "text/plain": [
              "  Item_Identifier  Item_Weight  ... Unemployment  IsHoliday\n",
              "0           FDA15         9.30  ...        8.106      False\n",
              "1           DRC01         5.92  ...        8.106       True\n",
              "2           FDN15        17.50  ...        8.106      False\n",
              "3           FDX07        19.20  ...        8.106      False\n",
              "4           NCD19         8.93  ...        8.106      False\n",
              "\n",
              "[5 rows x 24 columns]"
            ]
          },
          "metadata": {
            "tags": []
          },
          "execution_count": 17
        }
      ]
    }
  ]
}